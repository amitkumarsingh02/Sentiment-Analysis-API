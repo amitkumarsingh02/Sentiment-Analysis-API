{
 "cells": [
  {
   "cell_type": "markdown",
   "id": "2db5653d",
   "metadata": {},
   "source": [
    "### Sentiment Analysis"
   ]
  },
  {
   "cell_type": "code",
   "execution_count": 1,
   "id": "dc01b208",
   "metadata": {},
   "outputs": [],
   "source": [
    "import pandas as pd\n",
    "import numpy as np\n",
    "import matplotlib.pyplot as plt\n",
    "from nltk.corpus import stopwords\n",
    "import re\n",
    "import pickle"
   ]
  },
  {
   "cell_type": "code",
   "execution_count": 2,
   "id": "2f0745c6",
   "metadata": {},
   "outputs": [
    {
     "data": {
      "text/html": [
       "<div>\n",
       "<style scoped>\n",
       "    .dataframe tbody tr th:only-of-type {\n",
       "        vertical-align: middle;\n",
       "    }\n",
       "\n",
       "    .dataframe tbody tr th {\n",
       "        vertical-align: top;\n",
       "    }\n",
       "\n",
       "    .dataframe thead th {\n",
       "        text-align: right;\n",
       "    }\n",
       "</style>\n",
       "<table border=\"1\" class=\"dataframe\">\n",
       "  <thead>\n",
       "    <tr style=\"text-align: right;\">\n",
       "      <th></th>\n",
       "      <th>airline_sentiment</th>\n",
       "      <th>text</th>\n",
       "    </tr>\n",
       "  </thead>\n",
       "  <tbody>\n",
       "    <tr>\n",
       "      <th>1</th>\n",
       "      <td>positive</td>\n",
       "      <td>@VirginAmerica plus you've added commercials t...</td>\n",
       "    </tr>\n",
       "    <tr>\n",
       "      <th>3</th>\n",
       "      <td>negative</td>\n",
       "      <td>@VirginAmerica it's really aggressive to blast...</td>\n",
       "    </tr>\n",
       "    <tr>\n",
       "      <th>4</th>\n",
       "      <td>negative</td>\n",
       "      <td>@VirginAmerica and it's a really big bad thing...</td>\n",
       "    </tr>\n",
       "    <tr>\n",
       "      <th>5</th>\n",
       "      <td>negative</td>\n",
       "      <td>@VirginAmerica seriously would pay $30 a fligh...</td>\n",
       "    </tr>\n",
       "    <tr>\n",
       "      <th>6</th>\n",
       "      <td>positive</td>\n",
       "      <td>@VirginAmerica yes, nearly every time I fly VX...</td>\n",
       "    </tr>\n",
       "    <tr>\n",
       "      <th>8</th>\n",
       "      <td>positive</td>\n",
       "      <td>@virginamerica Well, I didn't…but NOW I DO! :-D</td>\n",
       "    </tr>\n",
       "    <tr>\n",
       "      <th>9</th>\n",
       "      <td>positive</td>\n",
       "      <td>@VirginAmerica it was amazing, and arrived an ...</td>\n",
       "    </tr>\n",
       "    <tr>\n",
       "      <th>11</th>\n",
       "      <td>positive</td>\n",
       "      <td>@VirginAmerica I &amp;lt;3 pretty graphics. so muc...</td>\n",
       "    </tr>\n",
       "    <tr>\n",
       "      <th>12</th>\n",
       "      <td>positive</td>\n",
       "      <td>@VirginAmerica This is such a great deal! Alre...</td>\n",
       "    </tr>\n",
       "    <tr>\n",
       "      <th>13</th>\n",
       "      <td>positive</td>\n",
       "      <td>@VirginAmerica @virginmedia I'm flying your #f...</td>\n",
       "    </tr>\n",
       "  </tbody>\n",
       "</table>\n",
       "</div>"
      ],
      "text/plain": [
       "   airline_sentiment                                               text\n",
       "1           positive  @VirginAmerica plus you've added commercials t...\n",
       "3           negative  @VirginAmerica it's really aggressive to blast...\n",
       "4           negative  @VirginAmerica and it's a really big bad thing...\n",
       "5           negative  @VirginAmerica seriously would pay $30 a fligh...\n",
       "6           positive  @VirginAmerica yes, nearly every time I fly VX...\n",
       "8           positive    @virginamerica Well, I didn't…but NOW I DO! :-D\n",
       "9           positive  @VirginAmerica it was amazing, and arrived an ...\n",
       "11          positive  @VirginAmerica I &lt;3 pretty graphics. so muc...\n",
       "12          positive  @VirginAmerica This is such a great deal! Alre...\n",
       "13          positive  @VirginAmerica @virginmedia I'm flying your #f..."
      ]
     },
     "execution_count": 2,
     "metadata": {},
     "output_type": "execute_result"
    }
   ],
   "source": [
    "data = pd.read_csv('airline_sentiment_analysis.csv', index_col=0)\n",
    "data.head(10)"
   ]
  },
  {
   "cell_type": "code",
   "execution_count": 3,
   "id": "3d8b366f",
   "metadata": {},
   "outputs": [
    {
     "data": {
      "text/plain": [
       "negative    9178\n",
       "positive    2363\n",
       "Name: airline_sentiment, dtype: int64"
      ]
     },
     "execution_count": 3,
     "metadata": {},
     "output_type": "execute_result"
    }
   ],
   "source": [
    "data['airline_sentiment'].value_counts()"
   ]
  },
  {
   "cell_type": "code",
   "execution_count": 4,
   "id": "66804009",
   "metadata": {},
   "outputs": [
    {
     "data": {
      "text/plain": [
       "airline_sentiment    0\n",
       "text                 0\n",
       "dtype: int64"
      ]
     },
     "execution_count": 4,
     "metadata": {},
     "output_type": "execute_result"
    }
   ],
   "source": [
    "data.isnull().sum()"
   ]
  },
  {
   "cell_type": "code",
   "execution_count": 5,
   "id": "7ea0e0a8",
   "metadata": {},
   "outputs": [],
   "source": [
    "import nltk\n",
    "import string\n",
    "from nltk.corpus import wordnet\n",
    "from nltk.stem.wordnet import WordNetLemmatizer\n",
    "from nltk.tokenize import word_tokenize\n",
    "\n",
    "pos_tags = {\"J\": wordnet.ADJ, \"N\": wordnet.NOUN, \n",
    "                \"V\": wordnet.VERB, \"R\": wordnet.ADV}\n",
    "\n",
    "class Preprocessing:\n",
    "        \n",
    "    def __init__(self):\n",
    "        super(Preprocessing, self).__init__()\n",
    "\n",
    "    @staticmethod\n",
    "    def load_data(config):\n",
    "        \"\"\"\n",
    "        Loading data from CSV file\n",
    "        \"\"\"\n",
    "        data = pd.read_csv(config.data_path)\n",
    "        if 'Unnamed: 0'in data.columns:\n",
    "            data = data.drop(['Unnamed: 0'], axis=1)\n",
    "        return data\n",
    "\n",
    "    @staticmethod\n",
    "    def index_to_label(index):\n",
    "        \"\"\"\n",
    "        converting 1 sentiment to positive and 0 sentiment to negative \n",
    "        \"\"\"\n",
    "        return 'positive' if index == 1 else 'negative'\n",
    "\n",
    "    @staticmethod\n",
    "    def label_to_index(label):\n",
    "        \"\"\"\n",
    "        converting positive sentiment to 1 and negative sentiment to 0 \n",
    "        \"\"\"\n",
    "        return 1 if label == 'positive' else 0\n",
    "\n",
    "    @staticmethod\n",
    "    def clean_text(text_string) -> str:\n",
    "        \"\"\"\n",
    "        converting text to lowercase \n",
    "        removing all hashtags, stop_words, extra space, digits\n",
    "        \"\"\"\n",
    "        process_text = text_string.lower()  # Convert string to lower\n",
    "        process_text = re.sub(r\"(@\\S+)\", \"\", process_text)  # Remove hashtags\n",
    "        process_text = re.sub(\"<.*?>\", \" \", process_text) \n",
    "        process_text = ''.join([i for i in process_text if not i.isdigit()]).strip()  # Removing all digits only\n",
    "        process_text = process_text.split(\" \")  \n",
    "        process_text = \" \".join([word for word in process_text if word not in stopwords.words(\"english\")]) # Removing all stop words\n",
    "        process_text = \" \".join(process_text.split())  # Removing extra spaces via splitting and joining\n",
    "        return process_text\n",
    "\n",
    "    @staticmethod\n",
    "    def lemmatizing(text):\n",
    "        \"\"\"\n",
    "        removing punctuations and lemmatizing text\n",
    "        \"\"\"\n",
    "        tokens = []\n",
    "        lemmatizer = WordNetLemmatizer()\n",
    "        unigrams = word_tokenize(text) # input text to unigrams\n",
    "        for word in unigrams:\n",
    "            pos_tag = nltk.pos_tag([word])[0][1][0].upper()\n",
    "            word = lemmatizer.lemmatize(word, pos_tags.get(pos_tag, wordnet.NOUN)) # Lemmatizing all unigrams\n",
    "            # removing all punctuations, empty unigrams\n",
    "            if word not in string.punctuation and re.match(r'[\\w+]', word):\n",
    "                tokens.append(word)\n",
    "        process_text = \" \".join(tokens)      \n",
    "        return process_text\n",
    "    \n",
    "class app_config():\n",
    "    data_path = 'airline_sentiment_analysis.csv'\n",
    "    val_size = 0.2\n",
    "    random_state = 42\n",
    "    max_pad_len = 25\n",
    "    token_path = 'token.pickle'\n",
    "\n",
    "    validation_split=0.0\n",
    "    epochs=50\n",
    "    batch_size=64\n",
    "    model_path = \"BiLSTM_Model\"\n",
    "\n",
    "    # Model Parameters\n",
    "    embedding_dim = 11058\n",
    "    output_dim = 64\n",
    "    learning_rate=0.001"
   ]
  },
  {
   "cell_type": "code",
   "execution_count": 6,
   "id": "8f9a2d1a",
   "metadata": {},
   "outputs": [
    {
     "data": {
      "text/html": [
       "<div>\n",
       "<style scoped>\n",
       "    .dataframe tbody tr th:only-of-type {\n",
       "        vertical-align: middle;\n",
       "    }\n",
       "\n",
       "    .dataframe tbody tr th {\n",
       "        vertical-align: top;\n",
       "    }\n",
       "\n",
       "    .dataframe thead th {\n",
       "        text-align: right;\n",
       "    }\n",
       "</style>\n",
       "<table border=\"1\" class=\"dataframe\">\n",
       "  <thead>\n",
       "    <tr style=\"text-align: right;\">\n",
       "      <th></th>\n",
       "      <th>airline_sentiment</th>\n",
       "      <th>text</th>\n",
       "    </tr>\n",
       "  </thead>\n",
       "  <tbody>\n",
       "    <tr>\n",
       "      <th>0</th>\n",
       "      <td>1</td>\n",
       "      <td>@VirginAmerica plus you've added commercials t...</td>\n",
       "    </tr>\n",
       "    <tr>\n",
       "      <th>1</th>\n",
       "      <td>0</td>\n",
       "      <td>@VirginAmerica it's really aggressive to blast...</td>\n",
       "    </tr>\n",
       "    <tr>\n",
       "      <th>2</th>\n",
       "      <td>0</td>\n",
       "      <td>@VirginAmerica and it's a really big bad thing...</td>\n",
       "    </tr>\n",
       "    <tr>\n",
       "      <th>3</th>\n",
       "      <td>0</td>\n",
       "      <td>@VirginAmerica seriously would pay $30 a fligh...</td>\n",
       "    </tr>\n",
       "    <tr>\n",
       "      <th>4</th>\n",
       "      <td>1</td>\n",
       "      <td>@VirginAmerica yes, nearly every time I fly VX...</td>\n",
       "    </tr>\n",
       "    <tr>\n",
       "      <th>5</th>\n",
       "      <td>1</td>\n",
       "      <td>@virginamerica Well, I didn't…but NOW I DO! :-D</td>\n",
       "    </tr>\n",
       "    <tr>\n",
       "      <th>6</th>\n",
       "      <td>1</td>\n",
       "      <td>@VirginAmerica it was amazing, and arrived an ...</td>\n",
       "    </tr>\n",
       "    <tr>\n",
       "      <th>7</th>\n",
       "      <td>1</td>\n",
       "      <td>@VirginAmerica I &amp;lt;3 pretty graphics. so muc...</td>\n",
       "    </tr>\n",
       "    <tr>\n",
       "      <th>8</th>\n",
       "      <td>1</td>\n",
       "      <td>@VirginAmerica This is such a great deal! Alre...</td>\n",
       "    </tr>\n",
       "    <tr>\n",
       "      <th>9</th>\n",
       "      <td>1</td>\n",
       "      <td>@VirginAmerica @virginmedia I'm flying your #f...</td>\n",
       "    </tr>\n",
       "  </tbody>\n",
       "</table>\n",
       "</div>"
      ],
      "text/plain": [
       "   airline_sentiment                                               text\n",
       "0                  1  @VirginAmerica plus you've added commercials t...\n",
       "1                  0  @VirginAmerica it's really aggressive to blast...\n",
       "2                  0  @VirginAmerica and it's a really big bad thing...\n",
       "3                  0  @VirginAmerica seriously would pay $30 a fligh...\n",
       "4                  1  @VirginAmerica yes, nearly every time I fly VX...\n",
       "5                  1    @virginamerica Well, I didn't…but NOW I DO! :-D\n",
       "6                  1  @VirginAmerica it was amazing, and arrived an ...\n",
       "7                  1  @VirginAmerica I &lt;3 pretty graphics. so muc...\n",
       "8                  1  @VirginAmerica This is such a great deal! Alre...\n",
       "9                  1  @VirginAmerica @virginmedia I'm flying your #f..."
      ]
     },
     "execution_count": 6,
     "metadata": {},
     "output_type": "execute_result"
    }
   ],
   "source": [
    "preprocessing = Preprocessing()\n",
    "data = preprocessing.load_data(app_config)\n",
    "data['airline_sentiment'] = data['airline_sentiment'].apply(preprocessing.label_to_index)\n",
    "data.head(10)"
   ]
  },
  {
   "cell_type": "code",
   "execution_count": 7,
   "id": "0ff1a064",
   "metadata": {},
   "outputs": [
    {
     "data": {
      "text/html": [
       "<div>\n",
       "<style scoped>\n",
       "    .dataframe tbody tr th:only-of-type {\n",
       "        vertical-align: middle;\n",
       "    }\n",
       "\n",
       "    .dataframe tbody tr th {\n",
       "        vertical-align: top;\n",
       "    }\n",
       "\n",
       "    .dataframe thead th {\n",
       "        text-align: right;\n",
       "    }\n",
       "</style>\n",
       "<table border=\"1\" class=\"dataframe\">\n",
       "  <thead>\n",
       "    <tr style=\"text-align: right;\">\n",
       "      <th></th>\n",
       "      <th>airline_sentiment</th>\n",
       "      <th>text</th>\n",
       "    </tr>\n",
       "  </thead>\n",
       "  <tbody>\n",
       "    <tr>\n",
       "      <th>0</th>\n",
       "      <td>1</td>\n",
       "      <td>plus added commercials experience... tacky.</td>\n",
       "    </tr>\n",
       "    <tr>\n",
       "      <th>1</th>\n",
       "      <td>0</td>\n",
       "      <td>really aggressive blast obnoxious \"entertainme...</td>\n",
       "    </tr>\n",
       "    <tr>\n",
       "      <th>2</th>\n",
       "      <td>0</td>\n",
       "      <td>really big bad thing</td>\n",
       "    </tr>\n",
       "    <tr>\n",
       "      <th>3</th>\n",
       "      <td>0</td>\n",
       "      <td>seriously would pay $ flight seats playing. it...</td>\n",
       "    </tr>\n",
       "    <tr>\n",
       "      <th>4</th>\n",
       "      <td>1</td>\n",
       "      <td>yes, nearly every time fly vx “ear worm” won’t...</td>\n",
       "    </tr>\n",
       "    <tr>\n",
       "      <th>5</th>\n",
       "      <td>1</td>\n",
       "      <td>well, didn't…but do! :-d</td>\n",
       "    </tr>\n",
       "    <tr>\n",
       "      <th>6</th>\n",
       "      <td>1</td>\n",
       "      <td>amazing, arrived hour early. good me.</td>\n",
       "    </tr>\n",
       "    <tr>\n",
       "      <th>7</th>\n",
       "      <td>1</td>\n",
       "      <td>&amp;lt; pretty graphics. much better minimal icon...</td>\n",
       "    </tr>\n",
       "    <tr>\n",
       "      <th>8</th>\n",
       "      <td>1</td>\n",
       "      <td>great deal! already thinking nd trip &amp;amp; eve...</td>\n",
       "    </tr>\n",
       "    <tr>\n",
       "      <th>9</th>\n",
       "      <td>1</td>\n",
       "      <td>i'm flying #fabulous #seductive skies again! u...</td>\n",
       "    </tr>\n",
       "  </tbody>\n",
       "</table>\n",
       "</div>"
      ],
      "text/plain": [
       "   airline_sentiment                                               text\n",
       "0                  1        plus added commercials experience... tacky.\n",
       "1                  0  really aggressive blast obnoxious \"entertainme...\n",
       "2                  0                               really big bad thing\n",
       "3                  0  seriously would pay $ flight seats playing. it...\n",
       "4                  1  yes, nearly every time fly vx “ear worm” won’t...\n",
       "5                  1                           well, didn't…but do! :-d\n",
       "6                  1              amazing, arrived hour early. good me.\n",
       "7                  1  &lt; pretty graphics. much better minimal icon...\n",
       "8                  1  great deal! already thinking nd trip &amp; eve...\n",
       "9                  1  i'm flying #fabulous #seductive skies again! u..."
      ]
     },
     "execution_count": 7,
     "metadata": {},
     "output_type": "execute_result"
    }
   ],
   "source": [
    "data['text'] = data['text'].apply(preprocessing.clean_text)\n",
    "data.head(10)"
   ]
  },
  {
   "cell_type": "code",
   "execution_count": 8,
   "id": "9f85493b",
   "metadata": {},
   "outputs": [
    {
     "data": {
      "text/html": [
       "<div>\n",
       "<style scoped>\n",
       "    .dataframe tbody tr th:only-of-type {\n",
       "        vertical-align: middle;\n",
       "    }\n",
       "\n",
       "    .dataframe tbody tr th {\n",
       "        vertical-align: top;\n",
       "    }\n",
       "\n",
       "    .dataframe thead th {\n",
       "        text-align: right;\n",
       "    }\n",
       "</style>\n",
       "<table border=\"1\" class=\"dataframe\">\n",
       "  <thead>\n",
       "    <tr style=\"text-align: right;\">\n",
       "      <th></th>\n",
       "      <th>airline_sentiment</th>\n",
       "      <th>text</th>\n",
       "    </tr>\n",
       "  </thead>\n",
       "  <tbody>\n",
       "    <tr>\n",
       "      <th>0</th>\n",
       "      <td>1</td>\n",
       "      <td>plus add commercial experience tacky</td>\n",
       "    </tr>\n",
       "    <tr>\n",
       "      <th>1</th>\n",
       "      <td>0</td>\n",
       "      <td>really aggressive blast obnoxious entertainmen...</td>\n",
       "    </tr>\n",
       "    <tr>\n",
       "      <th>2</th>\n",
       "      <td>0</td>\n",
       "      <td>really big bad thing</td>\n",
       "    </tr>\n",
       "    <tr>\n",
       "      <th>3</th>\n",
       "      <td>0</td>\n",
       "      <td>seriously would pay flight seat play it really...</td>\n",
       "    </tr>\n",
       "    <tr>\n",
       "      <th>4</th>\n",
       "      <td>1</td>\n",
       "      <td>yes nearly every time fly vx ear worm won t go...</td>\n",
       "    </tr>\n",
       "    <tr>\n",
       "      <th>5</th>\n",
       "      <td>1</td>\n",
       "      <td>well didn't…but do</td>\n",
       "    </tr>\n",
       "    <tr>\n",
       "      <th>6</th>\n",
       "      <td>1</td>\n",
       "      <td>amaze arrive hour early good me</td>\n",
       "    </tr>\n",
       "    <tr>\n",
       "      <th>7</th>\n",
       "      <td>1</td>\n",
       "      <td>lt pretty graphic much well minimal iconography d</td>\n",
       "    </tr>\n",
       "    <tr>\n",
       "      <th>8</th>\n",
       "      <td>1</td>\n",
       "      <td>great deal already think nd trip amp even go s...</td>\n",
       "    </tr>\n",
       "    <tr>\n",
       "      <th>9</th>\n",
       "      <td>1</td>\n",
       "      <td>i fly fabulous seductive sky again u take stre...</td>\n",
       "    </tr>\n",
       "  </tbody>\n",
       "</table>\n",
       "</div>"
      ],
      "text/plain": [
       "   airline_sentiment                                               text\n",
       "0                  1               plus add commercial experience tacky\n",
       "1                  0  really aggressive blast obnoxious entertainmen...\n",
       "2                  0                               really big bad thing\n",
       "3                  0  seriously would pay flight seat play it really...\n",
       "4                  1  yes nearly every time fly vx ear worm won t go...\n",
       "5                  1                                 well didn't…but do\n",
       "6                  1                    amaze arrive hour early good me\n",
       "7                  1  lt pretty graphic much well minimal iconography d\n",
       "8                  1  great deal already think nd trip amp even go s...\n",
       "9                  1  i fly fabulous seductive sky again u take stre..."
      ]
     },
     "execution_count": 8,
     "metadata": {},
     "output_type": "execute_result"
    }
   ],
   "source": [
    "data['text'] = data['text'].apply(preprocessing.lemmatizing)\n",
    "data.head(10)"
   ]
  },
  {
   "cell_type": "markdown",
   "id": "cf762572",
   "metadata": {},
   "source": [
    "### CountVectorizer and Train-Test Split for Logistic Regression, RandomForestClassifier"
   ]
  },
  {
   "cell_type": "code",
   "execution_count": 9,
   "id": "632a747f",
   "metadata": {},
   "outputs": [],
   "source": [
    "from sklearn.feature_extraction.text import CountVectorizer\n",
    "from sklearn.model_selection import train_test_split\n",
    "\n",
    "def train_test_data(X, y):   \n",
    "    text_train, text_test, y_train, y_test = train_test_split(X,y, test_size=0.2, random_state=0)    # do the split\n",
    "    vectorizer = CountVectorizer(min_df=5, ngram_range=(1, 4))\n",
    "    X_train = vectorizer.fit_transform(text_train)\n",
    "    X_test = vectorizer.transform(text_test) \n",
    "    \n",
    "    return X_train, X_test, y_train, y_test, vectorizer"
   ]
  },
  {
   "cell_type": "code",
   "execution_count": 10,
   "id": "4db88a43",
   "metadata": {},
   "outputs": [],
   "source": [
    " X_train, X_test, y_train, y_test, vectorizer = train_test_data(data['text'], data['airline_sentiment'])"
   ]
  },
  {
   "cell_type": "markdown",
   "id": "32776f6b",
   "metadata": {},
   "source": [
    "### Logistic Regression"
   ]
  },
  {
   "cell_type": "code",
   "execution_count": 11,
   "id": "bd121c03",
   "metadata": {},
   "outputs": [],
   "source": [
    "# LogisticRegression \n",
    "from sklearn.linear_model import LogisticRegression\n",
    "\n",
    "class LRegression:\n",
    "    def logistic_regression(self):\n",
    "        lr_model = LogisticRegression(penalty='l2',solver='sag', max_iter=1000)\n",
    "        lr_model.fit(X_train, y_train)\n",
    "        lr_prediction = lr_model.predict(X_test)\n",
    "        return lr_prediction\n",
    "    \n",
    "lr_prediction = LRegression().logistic_regression()"
   ]
  },
  {
   "cell_type": "code",
   "execution_count": 12,
   "id": "4019e57b",
   "metadata": {},
   "outputs": [
    {
     "name": "stdout",
     "output_type": "stream",
     "text": [
      "Accuracy of the Logistic Regression is: 0.916847119965353\n",
      "              precision    recall  f1-score   support\n",
      "\n",
      "           0       0.93      0.96      0.95      1839\n",
      "           1       0.84      0.73      0.78       470\n",
      "\n",
      "    accuracy                           0.92      2309\n",
      "   macro avg       0.89      0.85      0.87      2309\n",
      "weighted avg       0.91      0.92      0.91      2309\n",
      "\n"
     ]
    }
   ],
   "source": [
    "from sklearn import metrics\n",
    "from sklearn.metrics import f1_score,precision_score,recall_score\n",
    "from sklearn.metrics import precision_recall_fscore_support as score\n",
    "print(\"Accuracy of the Logistic Regression is:\", metrics.accuracy_score(y_test, lr_prediction))\n",
    "\n",
    "print (metrics.classification_report(y_test, lr_prediction))"
   ]
  },
  {
   "cell_type": "code",
   "execution_count": 13,
   "id": "d364f507",
   "metadata": {},
   "outputs": [],
   "source": [
    "from sklearn.model_selection import GridSearchCV\n",
    "import warnings\n",
    "warnings.filterwarnings('ignore')\n",
    "# parameter grid\n",
    "parameters = {\n",
    "    'penalty' : ['l1','l2'], \n",
    "    'C'       : [1, 1.2, 0.5],\n",
    "    'solver'  : ['sag', 'lbfgs', 'liblinear'],\n",
    "}\n",
    "logreg = LogisticRegression()\n",
    "clf = GridSearchCV(logreg,                    # model\n",
    "                   param_grid = parameters,   # hyperparameters\n",
    "                   scoring='accuracy',        # metric for scoring\n",
    "                   cv=10) "
   ]
  },
  {
   "cell_type": "code",
   "execution_count": 14,
   "id": "77cb53ba",
   "metadata": {},
   "outputs": [
    {
     "data": {
      "text/plain": [
       "GridSearchCV(cv=10, estimator=LogisticRegression(),\n",
       "             param_grid={'C': [1, 1.2, 0.5], 'penalty': ['l1', 'l2'],\n",
       "                         'solver': ['sag', 'lbfgs', 'liblinear']},\n",
       "             scoring='accuracy')"
      ]
     },
     "execution_count": 14,
     "metadata": {},
     "output_type": "execute_result"
    }
   ],
   "source": [
    "clf.fit(X_train,y_train)"
   ]
  },
  {
   "cell_type": "code",
   "execution_count": 15,
   "id": "c4d5e90f",
   "metadata": {},
   "outputs": [
    {
     "name": "stdout",
     "output_type": "stream",
     "text": [
      "Hyper parameters are   {'C': 1.2, 'penalty': 'l2', 'solver': 'liblinear'}\n",
      "Best Score values are  0.9134545032432356\n"
     ]
    }
   ],
   "source": [
    "print('Hyper parameters are  ', clf.best_params_)\n",
    "print('Best Score values are ', clf.best_score_)"
   ]
  },
  {
   "cell_type": "markdown",
   "id": "752b15fa",
   "metadata": {},
   "source": [
    "### RandomForestClassifier"
   ]
  },
  {
   "cell_type": "code",
   "execution_count": 16,
   "id": "a8994f4b",
   "metadata": {},
   "outputs": [],
   "source": [
    "from sklearn.ensemble import RandomForestClassifier\n",
    "\n",
    "class RFClassifier:\n",
    "    def random_forest_classifier(self):\n",
    "        rfc_classifier = RandomForestClassifier()\n",
    "        rfc_classifier.fit(X_train, y_train)\n",
    "        rfc_predictions = rfc_classifier.predict(X_test)\n",
    "        return rfc_predictions\n",
    "    \n",
    "rfc_predictions = RFClassifier().random_forest_classifier()"
   ]
  },
  {
   "cell_type": "code",
   "execution_count": 17,
   "id": "ace65379",
   "metadata": {},
   "outputs": [
    {
     "name": "stdout",
     "output_type": "stream",
     "text": [
      "Accuracy of the RandomForestClassifier is: 0.9003897791251624\n",
      "              precision    recall  f1-score   support\n",
      "\n",
      "           0       0.93      0.95      0.94      1839\n",
      "           1       0.78      0.70      0.74       470\n",
      "\n",
      "    accuracy                           0.90      2309\n",
      "   macro avg       0.86      0.83      0.84      2309\n",
      "weighted avg       0.90      0.90      0.90      2309\n",
      "\n"
     ]
    }
   ],
   "source": [
    "print(\"Accuracy of the RandomForestClassifier is:\", metrics.accuracy_score(y_test, rfc_predictions))\n",
    "\n",
    "print(metrics.classification_report(y_test, rfc_predictions))"
   ]
  },
  {
   "cell_type": "code",
   "execution_count": 18,
   "id": "9a0e6e2c",
   "metadata": {},
   "outputs": [],
   "source": [
    "# Create the parameter grid based on the results of random search \n",
    "param_grid = {\n",
    "    'bootstrap': [True],\n",
    "    'max_depth': [5, 10, None],\n",
    "    'max_features': [2, 1],\n",
    "    'min_samples_leaf': [1, 2],\n",
    "    'min_samples_split': [1, 2],\n",
    "    'n_estimators': [100, 120]\n",
    "}\n",
    "# Create a based model\n",
    "rf = RandomForestClassifier()\n",
    "# Instantiate the grid search model\n",
    "grid_search = GridSearchCV(estimator = rf, param_grid = param_grid, \n",
    "                          cv = 10, n_jobs = -1, verbose = 2)"
   ]
  },
  {
   "cell_type": "code",
   "execution_count": 19,
   "id": "927330b2",
   "metadata": {},
   "outputs": [
    {
     "name": "stdout",
     "output_type": "stream",
     "text": [
      "Fitting 10 folds for each of 48 candidates, totalling 480 fits\n"
     ]
    },
    {
     "data": {
      "text/plain": [
       "GridSearchCV(cv=10, estimator=RandomForestClassifier(), n_jobs=-1,\n",
       "             param_grid={'bootstrap': [True], 'max_depth': [5, 10, None],\n",
       "                         'max_features': [2, 1], 'min_samples_leaf': [1, 2],\n",
       "                         'min_samples_split': [1, 2],\n",
       "                         'n_estimators': [100, 120]},\n",
       "             verbose=2)"
      ]
     },
     "execution_count": 19,
     "metadata": {},
     "output_type": "execute_result"
    }
   ],
   "source": [
    "grid_search.fit(X_train,y_train)"
   ]
  },
  {
   "cell_type": "code",
   "execution_count": 20,
   "id": "987d67a2",
   "metadata": {},
   "outputs": [
    {
     "name": "stdout",
     "output_type": "stream",
     "text": [
      "Hyper parameters are   {'bootstrap': True, 'max_depth': None, 'max_features': 2, 'min_samples_leaf': 1, 'min_samples_split': 2, 'n_estimators': 100}\n",
      "Best Score values are  0.8917896657333276\n"
     ]
    }
   ],
   "source": [
    "print('Hyper parameters are  ', grid_search.best_params_)\n",
    "print('Best Score values are ', grid_search.best_score_)"
   ]
  },
  {
   "cell_type": "markdown",
   "id": "ca087861",
   "metadata": {},
   "source": [
    "### BiLTSTM"
   ]
  },
  {
   "cell_type": "code",
   "execution_count": 22,
   "id": "8f917691",
   "metadata": {},
   "outputs": [],
   "source": [
    "from tensorflow.keras.preprocessing.text import Tokenizer\n",
    "from tensorflow.keras.preprocessing.sequence import pad_sequences\n",
    "from tensorflow.keras.models import Sequential\n",
    "from tensorflow.keras.layers import Bidirectional, GlobalMaxPooling1D, LSTM,Dense, Dropout, SpatialDropout1D, Embedding\n",
    "from keras import regularizers\n",
    "from tensorflow.keras import optimizers\n",
    "import numpy as np\n",
    "\n",
    "class app_config:\n",
    "    data_path = 'airline_sentiment_analysis.csv'\n",
    "    val_size = 0.2\n",
    "    random_state = 42\n",
    "    max_pad_len = 25\n",
    "    token_path = 'token.pickle'\n",
    "\n",
    "    validation_split= 0.0\n",
    "    epochs= 25\n",
    "    batch_size= 32\n",
    "    model_path = \"BiLSTM_Model\"\n",
    "\n",
    "    # Model Parameters\n",
    "    embedding_dim = 5000\n",
    "    output_dim = 32\n",
    "    learning_rate= 0.01\n",
    "    regularizers = 0.001\n",
    "    input_len = 23\n",
    "    \n",
    "\n",
    "class Training:\n",
    "    def __init__(self):\n",
    "        super(Training, self).__init__()\n",
    "\n",
    "    def tokenize_text(self, X):\n",
    "        self.token = Tokenizer()\n",
    "        self.token.fit_on_texts(X)\n",
    "        tokenized_text = self.token.texts_to_sequences(X)\n",
    "        input_dim = max(len(txt) for txt in tokenized_text) \n",
    "        self.padded_tokenized_text = pad_sequences(tokenized_text, maxlen=input_dim).tolist()\n",
    "        return self.token\n",
    "\n",
    "    def build_bilstm_model(self, app_config):\n",
    "        \"\"\"\n",
    "        Building BiLSTM model\n",
    "        \"\"\"\n",
    "        model = Sequential()\n",
    "        model.add(Embedding(input_dim = len(self.token.word_index) + 1, output_dim = app_config.output_dim, input_length = app_config.input_len))\n",
    "        model.add(Dropout(0.25))\n",
    "        model.add(Bidirectional(LSTM(100, dropout=0.5, recurrent_dropout=0.5, return_sequences=True)))\n",
    "        model.add(Bidirectional(LSTM(100, dropout=0.5, recurrent_dropout=0.5, return_sequences=True)))\n",
    "        model.add(GlobalMaxPooling1D())\n",
    "        model.add(Dense(32,kernel_regularizer=regularizers.l2(app_config.regularizers),activation='relu'))\n",
    "        model.add(Dropout(0.25))\n",
    "        model.add(Dense(16,activation='relu'))\n",
    "        model.add(Dropout(0.25))\n",
    "        model.add(Dense(1, activation='sigmoid'))\n",
    "        model.compile(loss='binary_crossentropy', optimizer=optimizers.Adam(lr=app_config.learning_rate), metrics = ['accuracy', 'AUC'])\n",
    "        return model\n",
    "\n",
    "    @staticmethod\n",
    "    def train_model(model, X, Y, epochs=10, batch_size=64, validation_split=0.0):\n",
    "        \"\"\"\n",
    "        Training model on given data\n",
    "        \"\"\"\n",
    "        history = model.fit(np.array(X.values.tolist()),Y, epochs=epochs, batch_size=batch_size, validation_split=validation_split)\n",
    "        return history"
   ]
  },
  {
   "cell_type": "code",
   "execution_count": 23,
   "id": "20170b54",
   "metadata": {},
   "outputs": [
    {
     "data": {
      "text/html": [
       "<div>\n",
       "<style scoped>\n",
       "    .dataframe tbody tr th:only-of-type {\n",
       "        vertical-align: middle;\n",
       "    }\n",
       "\n",
       "    .dataframe tbody tr th {\n",
       "        vertical-align: top;\n",
       "    }\n",
       "\n",
       "    .dataframe thead th {\n",
       "        text-align: right;\n",
       "    }\n",
       "</style>\n",
       "<table border=\"1\" class=\"dataframe\">\n",
       "  <thead>\n",
       "    <tr style=\"text-align: right;\">\n",
       "      <th></th>\n",
       "      <th>airline_sentiment</th>\n",
       "      <th>text</th>\n",
       "      <th>tokenized_text</th>\n",
       "    </tr>\n",
       "  </thead>\n",
       "  <tbody>\n",
       "    <tr>\n",
       "      <th>0</th>\n",
       "      <td>1</td>\n",
       "      <td>plus add commercial experience tacky</td>\n",
       "      <td>[0, 0, 0, 0, 0, 0, 0, 0, 0, 0, 0, 0, 0, 0, 0, ...</td>\n",
       "    </tr>\n",
       "    <tr>\n",
       "      <th>1</th>\n",
       "      <td>0</td>\n",
       "      <td>really aggressive blast obnoxious entertainmen...</td>\n",
       "      <td>[0, 0, 0, 0, 0, 0, 0, 0, 0, 0, 0, 0, 0, 68, 24...</td>\n",
       "    </tr>\n",
       "    <tr>\n",
       "      <th>2</th>\n",
       "      <td>0</td>\n",
       "      <td>really big bad thing</td>\n",
       "      <td>[0, 0, 0, 0, 0, 0, 0, 0, 0, 0, 0, 0, 0, 0, 0, ...</td>\n",
       "    </tr>\n",
       "    <tr>\n",
       "      <th>3</th>\n",
       "      <td>0</td>\n",
       "      <td>seriously would pay flight seat play it really...</td>\n",
       "      <td>[0, 0, 0, 0, 0, 0, 0, 0, 0, 0, 0, 281, 38, 131...</td>\n",
       "    </tr>\n",
       "    <tr>\n",
       "      <th>4</th>\n",
       "      <td>1</td>\n",
       "      <td>yes nearly every time fly vx ear worm won t go...</td>\n",
       "      <td>[0, 0, 0, 0, 0, 0, 0, 0, 0, 0, 0, 111, 1084, 2...</td>\n",
       "    </tr>\n",
       "    <tr>\n",
       "      <th>5</th>\n",
       "      <td>1</td>\n",
       "      <td>well didn't…but do</td>\n",
       "      <td>[0, 0, 0, 0, 0, 0, 0, 0, 0, 0, 0, 0, 0, 0, 0, ...</td>\n",
       "    </tr>\n",
       "    <tr>\n",
       "      <th>6</th>\n",
       "      <td>1</td>\n",
       "      <td>amaze arrive hour early good me</td>\n",
       "      <td>[0, 0, 0, 0, 0, 0, 0, 0, 0, 0, 0, 0, 0, 0, 0, ...</td>\n",
       "    </tr>\n",
       "    <tr>\n",
       "      <th>7</th>\n",
       "      <td>1</td>\n",
       "      <td>lt pretty graphic much well minimal iconography d</td>\n",
       "      <td>[0, 0, 0, 0, 0, 0, 0, 0, 0, 0, 0, 0, 0, 0, 0, ...</td>\n",
       "    </tr>\n",
       "    <tr>\n",
       "      <th>8</th>\n",
       "      <td>1</td>\n",
       "      <td>great deal already think nd trip amp even go s...</td>\n",
       "      <td>[0, 0, 0, 0, 0, 0, 0, 0, 0, 0, 57, 310, 141, 1...</td>\n",
       "    </tr>\n",
       "    <tr>\n",
       "      <th>9</th>\n",
       "      <td>1</td>\n",
       "      <td>i fly fabulous seductive sky again u take stre...</td>\n",
       "      <td>[0, 0, 0, 0, 0, 0, 0, 0, 0, 0, 0, 3, 21, 1462,...</td>\n",
       "    </tr>\n",
       "  </tbody>\n",
       "</table>\n",
       "</div>"
      ],
      "text/plain": [
       "   airline_sentiment                                               text  \\\n",
       "0                  1               plus add commercial experience tacky   \n",
       "1                  0  really aggressive blast obnoxious entertainmen...   \n",
       "2                  0                               really big bad thing   \n",
       "3                  0  seriously would pay flight seat play it really...   \n",
       "4                  1  yes nearly every time fly vx ear worm won t go...   \n",
       "5                  1                                 well didn't…but do   \n",
       "6                  1                    amaze arrive hour early good me   \n",
       "7                  1  lt pretty graphic much well minimal iconography d   \n",
       "8                  1  great deal already think nd trip amp even go s...   \n",
       "9                  1  i fly fabulous seductive sky again u take stre...   \n",
       "\n",
       "                                      tokenized_text  \n",
       "0  [0, 0, 0, 0, 0, 0, 0, 0, 0, 0, 0, 0, 0, 0, 0, ...  \n",
       "1  [0, 0, 0, 0, 0, 0, 0, 0, 0, 0, 0, 0, 0, 68, 24...  \n",
       "2  [0, 0, 0, 0, 0, 0, 0, 0, 0, 0, 0, 0, 0, 0, 0, ...  \n",
       "3  [0, 0, 0, 0, 0, 0, 0, 0, 0, 0, 0, 281, 38, 131...  \n",
       "4  [0, 0, 0, 0, 0, 0, 0, 0, 0, 0, 0, 111, 1084, 2...  \n",
       "5  [0, 0, 0, 0, 0, 0, 0, 0, 0, 0, 0, 0, 0, 0, 0, ...  \n",
       "6  [0, 0, 0, 0, 0, 0, 0, 0, 0, 0, 0, 0, 0, 0, 0, ...  \n",
       "7  [0, 0, 0, 0, 0, 0, 0, 0, 0, 0, 0, 0, 0, 0, 0, ...  \n",
       "8  [0, 0, 0, 0, 0, 0, 0, 0, 0, 0, 57, 310, 141, 1...  \n",
       "9  [0, 0, 0, 0, 0, 0, 0, 0, 0, 0, 0, 3, 21, 1462,...  "
      ]
     },
     "execution_count": 23,
     "metadata": {},
     "output_type": "execute_result"
    }
   ],
   "source": [
    "training = Training()\n",
    "token = training.tokenize_text(data['text'])\n",
    "data['tokenized_text'] = training.padded_tokenized_text\n",
    "data.head(10)"
   ]
  },
  {
   "cell_type": "code",
   "execution_count": 24,
   "id": "b65086db",
   "metadata": {},
   "outputs": [
    {
     "name": "stdout",
     "output_type": "stream",
     "text": [
      "Model: \"sequential\"\n",
      "_________________________________________________________________\n",
      " Layer (type)                Output Shape              Param #   \n",
      "=================================================================\n",
      " embedding (Embedding)       (None, 23, 32)            268480    \n",
      "                                                                 \n",
      " dropout (Dropout)           (None, 23, 32)            0         \n",
      "                                                                 \n",
      " bidirectional (Bidirectiona  (None, 23, 200)          106400    \n",
      " l)                                                              \n",
      "                                                                 \n",
      " bidirectional_1 (Bidirectio  (None, 23, 200)          240800    \n",
      " nal)                                                            \n",
      "                                                                 \n",
      " global_max_pooling1d (Globa  (None, 200)              0         \n",
      " lMaxPooling1D)                                                  \n",
      "                                                                 \n",
      " dense (Dense)               (None, 32)                6432      \n",
      "                                                                 \n",
      " dropout_1 (Dropout)         (None, 32)                0         \n",
      "                                                                 \n",
      " dense_1 (Dense)             (None, 16)                528       \n",
      "                                                                 \n",
      " dropout_2 (Dropout)         (None, 16)                0         \n",
      "                                                                 \n",
      " dense_2 (Dense)             (None, 1)                 17        \n",
      "                                                                 \n",
      "=================================================================\n",
      "Total params: 622,657\n",
      "Trainable params: 622,657\n",
      "Non-trainable params: 0\n",
      "_________________________________________________________________\n",
      "None\n"
     ]
    }
   ],
   "source": [
    "model = training.build_bilstm_model(app_config)\n",
    "print(model.summary())"
   ]
  },
  {
   "cell_type": "code",
   "execution_count": 25,
   "id": "3f308e4d",
   "metadata": {},
   "outputs": [],
   "source": [
    "from sklearn.model_selection import train_test_split\n",
    "X_train, X_test, Y_train, Y_test = train_test_split(data['tokenized_text'],data['airline_sentiment'], test_size=0.2, random_state=42)"
   ]
  },
  {
   "cell_type": "code",
   "execution_count": 26,
   "id": "4f0724b2",
   "metadata": {
    "scrolled": false
   },
   "outputs": [
    {
     "name": "stdout",
     "output_type": "stream",
     "text": [
      "Epoch 1/10\n",
      "231/231 [==============================] - 29s 78ms/step - loss: 0.4364 - accuracy: 0.8125 - auc: 0.7841 - val_loss: 0.3598 - val_accuracy: 0.8630 - val_auc: 0.9048\n",
      "Epoch 2/10\n",
      "231/231 [==============================] - 20s 88ms/step - loss: 0.2566 - accuracy: 0.9081 - auc: 0.9376 - val_loss: 0.2597 - val_accuracy: 0.8977 - val_auc: 0.9413\n",
      "Epoch 3/10\n",
      "231/231 [==============================] - 21s 90ms/step - loss: 0.1694 - accuracy: 0.9453 - auc: 0.9716 - val_loss: 0.2596 - val_accuracy: 0.9047 - val_auc: 0.9431\n",
      "Epoch 4/10\n",
      "231/231 [==============================] - 22s 93ms/step - loss: 0.1305 - accuracy: 0.9626 - auc: 0.9824 - val_loss: 0.3612 - val_accuracy: 0.8977 - val_auc: 0.9205\n",
      "Epoch 5/10\n",
      "231/231 [==============================] - 21s 90ms/step - loss: 0.1161 - accuracy: 0.9653 - auc: 0.9856 - val_loss: 0.3579 - val_accuracy: 0.8960 - val_auc: 0.9293\n",
      "Epoch 6/10\n",
      "231/231 [==============================] - 22s 97ms/step - loss: 0.0985 - accuracy: 0.9708 - auc: 0.9899 - val_loss: 0.3640 - val_accuracy: 0.8960 - val_auc: 0.9131\n",
      "Epoch 7/10\n",
      "231/231 [==============================] - 22s 94ms/step - loss: 0.0790 - accuracy: 0.9764 - auc: 0.9945 - val_loss: 0.3676 - val_accuracy: 0.8998 - val_auc: 0.9225\n",
      "Epoch 8/10\n",
      "231/231 [==============================] - 21s 90ms/step - loss: 0.0745 - accuracy: 0.9800 - auc: 0.9942 - val_loss: 0.4372 - val_accuracy: 0.9036 - val_auc: 0.9125\n",
      "Epoch 9/10\n",
      "231/231 [==============================] - 20s 88ms/step - loss: 0.0709 - accuracy: 0.9813 - auc: 0.9947 - val_loss: 0.4238 - val_accuracy: 0.8906 - val_auc: 0.9182\n",
      "Epoch 10/10\n",
      "231/231 [==============================] - 21s 89ms/step - loss: 0.0706 - accuracy: 0.9802 - auc: 0.9954 - val_loss: 0.3740 - val_accuracy: 0.8917 - val_auc: 0.9169\n"
     ]
    }
   ],
   "source": [
    "history = training.train_model(model, X_train, Y_train, epochs=10, batch_size=32, validation_split = 0.2)"
   ]
  },
  {
   "cell_type": "code",
   "execution_count": 27,
   "id": "5b69399d",
   "metadata": {},
   "outputs": [
    {
     "data": {
      "image/png": "[encoded data removed]",
      "text/plain": [
       "<Figure size 1500x800 with 2 Axes>"
      ]
     },
     "metadata": {
      "needs_background": "light"
     },
     "output_type": "display_data"
    }
   ],
   "source": [
    "import matplotlib.pyplot as plt\n",
    "from matplotlib.pyplot import figure\n",
    "%matplotlib inline\n",
    "\n",
    "# Plot the accuracy against epochs\n",
    "figure(figsize=(15, 8), dpi=100)\n",
    "\n",
    "plt.subplot(2,2,1)\n",
    "acc = history.history['accuracy']\n",
    "val_acc = history.history['val_accuracy']\n",
    "epochs = range(len(acc))\n",
    "\n",
    "plt.plot(epochs, acc, label='Training Accuracy')\n",
    "plt.plot(epochs, val_acc, label='Validation Accuracy')\n",
    "plt.xlabel('Epochs')\n",
    "plt.ylabel('Accuracy')\n",
    "plt.legend()\n",
    "\n",
    "plt.subplot(2,2,2)\n",
    "\n",
    "# Plot the Loss against epochs\n",
    "loss = history.history['loss']\n",
    "val_loss = history.history['val_loss']\n",
    "\n",
    "plt.plot(epochs, loss, label='Training Loss')\n",
    "plt.plot(epochs, val_loss, label='Validation Loss')\n",
    "plt.xlabel('Epochs')\n",
    "plt.ylabel('Loss')\n",
    "plt.legend()\n",
    "plt.show()"
   ]
  },
  {
   "cell_type": "code",
   "execution_count": 28,
   "id": "273b0675",
   "metadata": {},
   "outputs": [
    {
     "name": "stdout",
     "output_type": "stream",
     "text": [
      "73/73 [==============================] - 1s 13ms/step - loss: 0.3884 - accuracy: 0.8917 - auc: 0.8988\n",
      "loss = 0.3883865475654602\n",
      "accuracy = 0.8917280435562134\n"
     ]
    }
   ],
   "source": [
    "loss_and_acc = model.evaluate(np.array(X_test.values.tolist()), Y_test)\n",
    "print('loss = ' + str(loss_and_acc[0]))\n",
    "print('accuracy = ' + str(loss_and_acc[1]))"
   ]
  },
  {
   "cell_type": "code",
   "execution_count": 29,
   "id": "50351a5c",
   "metadata": {},
   "outputs": [
    {
     "name": "stdout",
     "output_type": "stream",
     "text": [
      "Epoch 1/10\n",
      "361/361 [==============================] - 31s 85ms/step - loss: 0.1945 - accuracy: 0.9430 - auc: 0.9607\n",
      "Epoch 2/10\n",
      "361/361 [==============================] - 32s 90ms/step - loss: 0.1580 - accuracy: 0.9498 - auc: 0.9768\n",
      "Epoch 3/10\n",
      "361/361 [==============================] - 31s 86ms/step - loss: 0.1561 - accuracy: 0.9500 - auc: 0.9787\n",
      "Epoch 4/10\n",
      "361/361 [==============================] - 34s 94ms/step - loss: 0.1704 - accuracy: 0.9459 - auc: 0.9750\n",
      "Epoch 5/10\n",
      "361/361 [==============================] - 34s 94ms/step - loss: 0.1891 - accuracy: 0.9376 - auc: 0.9706\n",
      "Epoch 6/10\n",
      "361/361 [==============================] - 32s 88ms/step - loss: 0.1978 - accuracy: 0.9338 - auc: 0.9676\n",
      "Epoch 7/10\n",
      "361/361 [==============================] - 30s 84ms/step - loss: 0.2076 - accuracy: 0.9302 - auc: 0.9652\n",
      "Epoch 8/10\n",
      "361/361 [==============================] - 32s 89ms/step - loss: 0.2458 - accuracy: 0.9189 - auc: 0.9480\n",
      "Epoch 9/10\n",
      "361/361 [==============================] - 34s 95ms/step - loss: 0.2568 - accuracy: 0.9087 - auc: 0.9452\n",
      "Epoch 10/10\n",
      "361/361 [==============================] - 32s 88ms/step - loss: 0.2762 - accuracy: 0.8977 - auc: 0.9367\n"
     ]
    }
   ],
   "source": [
    "history = training.train_model(model, data['tokenized_text'], data['airline_sentiment'], epochs=10, batch_size=32)"
   ]
  },
  {
   "cell_type": "code",
   "execution_count": 30,
   "id": "fcf5af37",
   "metadata": {},
   "outputs": [
    {
     "name": "stdout",
     "output_type": "stream",
     "text": [
      "INFO:tensorflow:Assets written to: BiLSTM_Model\\assets\n"
     ]
    },
    {
     "name": "stderr",
     "output_type": "stream",
     "text": [
      "WARNING:absl:<keras.layers.recurrent.LSTMCell object at 0x000001A8A0334A30> has the same name 'LSTMCell' as a built-in Keras object. Consider renaming <class 'keras.layers.recurrent.LSTMCell'> to avoid naming conflicts when loading with `tf.keras.models.load_model`. If renaming is not possible, pass the object in the `custom_objects` parameter of the load function.\n",
      "WARNING:absl:<keras.layers.recurrent.LSTMCell object at 0x000001A8A0AA74F0> has the same name 'LSTMCell' as a built-in Keras object. Consider renaming <class 'keras.layers.recurrent.LSTMCell'> to avoid naming conflicts when loading with `tf.keras.models.load_model`. If renaming is not possible, pass the object in the `custom_objects` parameter of the load function.\n",
      "WARNING:absl:<keras.layers.recurrent.LSTMCell object at 0x000001A8A7CF4490> has the same name 'LSTMCell' as a built-in Keras object. Consider renaming <class 'keras.layers.recurrent.LSTMCell'> to avoid naming conflicts when loading with `tf.keras.models.load_model`. If renaming is not possible, pass the object in the `custom_objects` parameter of the load function.\n",
      "WARNING:absl:<keras.layers.recurrent.LSTMCell object at 0x000001A8A7CFB370> has the same name 'LSTMCell' as a built-in Keras object. Consider renaming <class 'keras.layers.recurrent.LSTMCell'> to avoid naming conflicts when loading with `tf.keras.models.load_model`. If renaming is not possible, pass the object in the `custom_objects` parameter of the load function.\n"
     ]
    }
   ],
   "source": [
    "pickle.dump(token, open(app_config.token_path, 'wb'))\n",
    "model.save(app_config.model_path)"
   ]
  },
  {
   "cell_type": "code",
   "execution_count": 31,
   "id": "452df60d",
   "metadata": {},
   "outputs": [],
   "source": [
    "from keras.models import load_model\n",
    "\n",
    "model = load_model(app_config.model_path)\n",
    "vect = pickle.load(open(app_config.token_path, 'rb'))"
   ]
  },
  {
   "cell_type": "code",
   "execution_count": 32,
   "id": "9b55f7ba",
   "metadata": {},
   "outputs": [
    {
     "data": {
      "text/plain": [
       "0.90334606"
      ]
     },
     "execution_count": 32,
     "metadata": {},
     "output_type": "execute_result"
    }
   ],
   "source": [
    "## Testing text\n",
    "text = 'best trip ever'\n",
    "tokenized_text = vect.texts_to_sequences([text])\n",
    "padded_tokenized_text = pad_sequences(tokenized_text, 23).tolist()\n",
    "index = model.predict(padded_tokenized_text)[0][0]\n",
    "index"
   ]
  },
  {
   "cell_type": "code",
   "execution_count": null,
   "id": "0bdff99e",
   "metadata": {},
   "outputs": [],
   "source": []
  }
 ],
 "metadata": {
  "kernelspec": {
   "display_name": "Python 3 (ipykernel)",
   "language": "python",
   "name": "python3"
  },
  "language_info": {
   "codemirror_mode": {
    "name": "ipython",
    "version": 3
   },
   "file_extension": ".py",
   "mimetype": "text/x-python",
   "name": "python",
   "nbconvert_exporter": "python",
   "pygments_lexer": "ipython3",
   "version": "3.8.12"
  }
 },
 "nbformat": 4,
 "nbformat_minor": 5
}
